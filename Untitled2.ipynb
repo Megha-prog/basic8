{
 "cells": [
  {
   "cell_type": "markdown",
   "id": "a0eeb04a",
   "metadata": {},
   "source": [
    "# Assignment 8"
   ]
  },
  {
   "cell_type": "code",
   "execution_count": null,
   "id": "c0cf7f99",
   "metadata": {},
   "outputs": [],
   "source": [
    "# x = [[1,2,3],\n",
    "    [4 ,5,6],\n",
    "    [7 ,8,9]]\n",
    " \n",
    "y = [[9,8,7],\n",
    "    [6,5,4],\n",
    "    [3,2,1]]\n",
    "\n",
    "result = [[0,0,0],\n",
    "        [0,0,0],\n",
    "        [0,0,0]]\n",
    "\n",
    "for i in range(len(x)):  \n",
    "# iterate through columns\n",
    "    for j in range(len(x[0])):\n",
    "    \n",
    "        result[i][j] = x[i][j] + y[i][j]\n",
    "\n",
    "for r in result:\n",
    "    print(r)"
   ]
  },
  {
   "cell_type": "code",
   "execution_count": null,
   "id": "476c97d2",
   "metadata": {},
   "outputs": [],
   "source": []
  },
  {
   "cell_type": "code",
   "execution_count": null,
   "id": "6376d0c2",
   "metadata": {},
   "outputs": [],
   "source": [
    "# We need install numpy in order to import it\n",
    "import numpy as np\n",
    "\n",
    "# input two matrices\n",
    "x = ( [[1,2,3],\n",
    "    [4 ,5,6],\n",
    "    [7 ,8,9]])\n",
    "\n",
    "y = [[9,8,7],\n",
    "    [6,5,4],\n",
    "    [3,2,1]]\n",
    "# This will return dot product\n",
    "res = np.add(x,y)\n",
    "\n",
    "\n",
    "# print resulted matrix\n",
    "print(res)\n"
   ]
  },
  {
   "cell_type": "markdown",
   "id": "cbfddca4",
   "metadata": {},
   "source": [
    "# Multiplication of numbers using numpy "
   ]
  },
  {
   "cell_type": "code",
   "execution_count": 24,
   "id": "a57b7681",
   "metadata": {},
   "outputs": [
    {
     "name": "stdout",
     "output_type": "stream",
     "text": [
      "[[ 30  24  18]\n",
      " [ 84  69  54]\n",
      " [138 114  90]]\n"
     ]
    }
   ],
   "source": [
    "import numpy as np\n",
    "x = [[1,2,3],\n",
    "    [4 ,5,6],\n",
    "    [7 ,8,9]]\n",
    " \n",
    "y = [[9,8,7],\n",
    "    [6,5,4],\n",
    "    [3,2,1]]\n",
    "\n",
    "z=np.dot(x,y)\n",
    "print(z)"
   ]
  },
  {
   "cell_type": "code",
   "execution_count": 26,
   "id": "0c09018a",
   "metadata": {},
   "outputs": [
    {
     "name": "stdout",
     "output_type": "stream",
     "text": [
      "[[114, 160, 60], [74, 97, 73], [119, 157, 112]]\n"
     ]
    }
   ],
   "source": [
    "#without numpy \n",
    "# input two matrices of size n x m\n",
    "matrix1 = [[12,7,3],\n",
    "[4 ,5,6],\n",
    "[7 ,8,9]]\n",
    "matrix2 = [[5,8,1],\n",
    "[6,7,3],\n",
    "[4,5,9]]\n",
    "\n",
    "res = [[0 for x in range(3)] for y in range(3)]\n",
    "\n",
    "# explicit for loops\n",
    "for i in range(len(matrix1)):\n",
    "\tfor j in range(len(matrix2[0])):\n",
    "\t\tfor k in range(len(matrix2)):\n",
    "\n",
    "\t\t\t# resulted matrix\n",
    "\t\t\tres[i][j] += matrix1[i][k] * matrix2[k][j]\n",
    "\n",
    "print (res)\n"
   ]
  },
  {
   "cell_type": "code",
   "execution_count": 31,
   "id": "7a06355f",
   "metadata": {},
   "outputs": [
    {
     "name": "stdout",
     "output_type": "stream",
     "text": [
      "[[1 4 7]\n",
      " [2 5 8]\n",
      " [3 6 9]]\n"
     ]
    }
   ],
   "source": [
    "import numpy as np\n",
    "x = [[1,2,3],\n",
    "    [4 ,5,6],\n",
    "    [7 ,8,9]]\n",
    "trans=np.transpose(x)\n",
    "print(trans)"
   ]
  },
  {
   "cell_type": "code",
   "execution_count": 58,
   "id": "ad90a28a",
   "metadata": {},
   "outputs": [
    {
     "name": "stdout",
     "output_type": "stream",
     "text": [
      "1 4 7 2 5 8 3 6 9 \n"
     ]
    }
   ],
   "source": [
    "#without numpy\n",
    "#TRANSPOSE OF MATRIX\n",
    "n=3\n",
    "def transpose(a,b):\n",
    "      \n",
    "    for i in range(n):\n",
    "        for j in range(n):\n",
    "            b[i][j] = a[j][i]\n",
    " \n",
    "\n",
    "\n",
    "    a = [[1,2,3],\n",
    "    [4 ,5,6],\n",
    "    [7 ,8,9]]\n",
    "    \n",
    "    b=[[0,0,0],[0,0,0],[0,0,0]]\n",
    "    \n",
    "transpose(a, b)\n",
    "\n",
    "for i in range(n):\n",
    "    for j in range(n):\n",
    "        print(b[i][j],\"\",end='')\n",
    "\n",
    "print()"
   ]
  },
  {
   "cell_type": "code",
   "execution_count": null,
   "id": "86050444",
   "metadata": {},
   "outputs": [],
   "source": [
    "\n"
   ]
  },
  {
   "cell_type": "code",
   "execution_count": 63,
   "id": "fc0ff11b",
   "metadata": {},
   "outputs": [
    {
     "name": "stdout",
     "output_type": "stream",
     "text": [
      "HNOPTY\n"
     ]
    }
   ],
   "source": [
    "#sort alphabtically \n",
    "def sortString(str):\n",
    "    return ''.join(sorted(str))\n",
    "      \n",
    "# Driver code\n",
    "str = 'PYTHON'\n",
    "print(sortString(str))\n",
    "#we can use two methods sort and join"
   ]
  },
  {
   "cell_type": "code",
   "execution_count": 72,
   "id": "47f2f90e",
   "metadata": {},
   "outputs": [
    {
     "name": "stdout",
     "output_type": "stream",
     "text": [
      "The string after punctuation filter : hello you are best    megha \n"
     ]
    }
   ],
   "source": [
    "import re\n",
    "test_str =\"hello,$@ you are best :  ! megha \"\n",
    "# Removing punctuations in string\n",
    "# Using regex\n",
    "\n",
    "res = re.sub(r'[^\\w\\s]', '', test_str)\n",
    "\n",
    "print(\"The string after punctuation filter : \" + res)"
   ]
  },
  {
   "cell_type": "code",
   "execution_count": null,
   "id": "3737c663",
   "metadata": {},
   "outputs": [],
   "source": []
  }
 ],
 "metadata": {
  "kernelspec": {
   "display_name": "Python 3",
   "language": "python",
   "name": "python3"
  },
  "language_info": {
   "codemirror_mode": {
    "name": "ipython",
    "version": 3
   },
   "file_extension": ".py",
   "mimetype": "text/x-python",
   "name": "python",
   "nbconvert_exporter": "python",
   "pygments_lexer": "ipython3",
   "version": "3.8.8"
  }
 },
 "nbformat": 4,
 "nbformat_minor": 5
}
